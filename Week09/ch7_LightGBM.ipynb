{
  "nbformat": 4,
  "nbformat_minor": 0,
  "metadata": {
    "colab": {
      "name": "ch7-LightGBM.ipynb",
      "provenance": [],
      "collapsed_sections": []
    },
    "kernelspec": {
      "name": "python3",
      "display_name": "Python 3"
    }
  },
  "cells": [
    {
      "cell_type": "code",
      "metadata": {
        "colab": {
          "base_uri": "https://localhost:8080/"
        },
        "id": "7G6hmJ68bZe9",
        "outputId": "58f847e6-5bc4-48e3-e625-7672d323607f"
      },
      "source": [
        "!git clone https://github.com/DepInjoy/ML-000.git"
      ],
      "execution_count": null,
      "outputs": [
        {
          "output_type": "stream",
          "text": [
            "Cloning into 'ML-000'...\n",
            "remote: Enumerating objects: 31, done.\u001b[K\n",
            "remote: Total 31 (delta 0), reused 0 (delta 0), pack-reused 31\u001b[K\n",
            "Unpacking objects: 100% (31/31), done.\n"
          ],
          "name": "stdout"
        }
      ]
    },
    {
      "cell_type": "code",
      "metadata": {
        "id": "9JWzu02Tbtcj"
      },
      "source": [
        "import pandas as pd\n",
        "import numpy as np\n",
        "import lightgbm as lgbm\n",
        "from sklearn.metrics import accuracy_score, recall_score,precision_score, auc\n",
        "from sklearn.model_selection import train_test_split\n",
        "from sklearn.model_selection import GridSearchCV\n",
        "from sklearn.model_selection import StratifiedKFold"
      ],
      "execution_count": null,
      "outputs": []
    },
    {
      "cell_type": "code",
      "metadata": {
        "id": "IWZRID5nbvnM"
      },
      "source": [
        "df_train_data = pd.read_csv(\"./ML-000/Week09/data/train_final.csv\")\n",
        "df_test_data = pd.read_csv(\"./ML-000/Week09/data/test_final.csv\")"
      ],
      "execution_count": null,
      "outputs": []
    },
    {
      "cell_type": "code",
      "metadata": {
        "colab": {
          "base_uri": "https://localhost:8080/"
        },
        "id": "ILRGXj5udLVo",
        "outputId": "b8c11371-e757-476f-cb08-a03cdecb2fbd"
      },
      "source": [
        "for col in df_train_data.columns:\r\n",
        "  print(col)"
      ],
      "execution_count": null,
      "outputs": [
        {
          "output_type": "stream",
          "text": [
            "continuous_annual_inc\n",
            "continuous_annual_inc_joint\n",
            "continuous_delinq_2yrs\n",
            "continuous_dti\n",
            "continuous_dti_joint\n",
            "continuous_fico_range_high\n",
            "continuous_fico_range_low\n",
            "continuous_funded_amnt\n",
            "continuous_funded_amnt_inv\n",
            "continuous_inq_last_6mths\n",
            "continuous_installment\n",
            "continuous_int_rate\n",
            "continuous_last_fico_range_high\n",
            "continuous_last_fico_range_low\n",
            "continuous_loan_amnt\n",
            "loan_status\n",
            "continuous_mths_since_last_delinq\n",
            "continuous_mths_since_last_major_derog\n",
            "continuous_mths_since_last_record\n",
            "continuous_open_acc\n",
            "continuous_pub_rec\n",
            "discrete_addr_state_1_one_hot\n",
            "discrete_addr_state_2_one_hot\n",
            "discrete_addr_state_3_one_hot\n",
            "discrete_addr_state_4_one_hot\n",
            "discrete_addr_state_5_one_hot\n",
            "discrete_addr_state_6_one_hot\n",
            "discrete_addr_state_7_one_hot\n",
            "discrete_addr_state_8_one_hot\n",
            "discrete_addr_state_9_one_hot\n",
            "discrete_addr_state_10_one_hot\n",
            "discrete_addr_state_11_one_hot\n",
            "discrete_addr_state_12_one_hot\n",
            "discrete_addr_state_13_one_hot\n",
            "discrete_addr_state_14_one_hot\n",
            "discrete_addr_state_15_one_hot\n",
            "discrete_addr_state_16_one_hot\n",
            "discrete_addr_state_17_one_hot\n",
            "discrete_addr_state_18_one_hot\n",
            "discrete_addr_state_19_one_hot\n",
            "discrete_addr_state_20_one_hot\n",
            "discrete_addr_state_21_one_hot\n",
            "discrete_addr_state_22_one_hot\n",
            "discrete_addr_state_23_one_hot\n",
            "discrete_addr_state_24_one_hot\n",
            "discrete_addr_state_25_one_hot\n",
            "discrete_addr_state_26_one_hot\n",
            "discrete_addr_state_27_one_hot\n",
            "discrete_addr_state_28_one_hot\n",
            "discrete_addr_state_29_one_hot\n",
            "discrete_addr_state_30_one_hot\n",
            "discrete_addr_state_31_one_hot\n",
            "discrete_addr_state_32_one_hot\n",
            "discrete_addr_state_33_one_hot\n",
            "discrete_addr_state_34_one_hot\n",
            "discrete_addr_state_35_one_hot\n",
            "discrete_addr_state_36_one_hot\n",
            "discrete_addr_state_37_one_hot\n",
            "discrete_addr_state_38_one_hot\n",
            "discrete_addr_state_39_one_hot\n",
            "discrete_addr_state_40_one_hot\n",
            "discrete_addr_state_41_one_hot\n",
            "discrete_addr_state_42_one_hot\n",
            "discrete_addr_state_43_one_hot\n",
            "discrete_addr_state_44_one_hot\n",
            "discrete_addr_state_45_one_hot\n",
            "discrete_addr_state_46_one_hot\n",
            "discrete_addr_state_47_one_hot\n",
            "discrete_addr_state_48_one_hot\n",
            "discrete_addr_state_49_one_hot\n",
            "discrete_application_type_1_one_hot\n",
            "discrete_application_type_2_one_hot\n",
            "discrete_emp_length_1_one_hot\n",
            "discrete_emp_length_2_one_hot\n",
            "discrete_emp_length_3_one_hot\n",
            "discrete_emp_length_4_one_hot\n",
            "discrete_emp_length_5_one_hot\n",
            "discrete_emp_length_6_one_hot\n",
            "discrete_emp_length_7_one_hot\n",
            "discrete_emp_length_8_one_hot\n",
            "discrete_emp_length_9_one_hot\n",
            "discrete_emp_length_10_one_hot\n",
            "discrete_emp_length_11_one_hot\n",
            "discrete_emp_length_12_one_hot\n",
            "discrete_grade_1_one_hot\n",
            "discrete_grade_2_one_hot\n",
            "discrete_grade_3_one_hot\n",
            "discrete_grade_4_one_hot\n",
            "discrete_grade_5_one_hot\n",
            "discrete_grade_6_one_hot\n",
            "discrete_grade_7_one_hot\n",
            "discrete_home_ownership_1_one_hot\n",
            "discrete_home_ownership_2_one_hot\n",
            "discrete_home_ownership_3_one_hot\n",
            "discrete_home_ownership_4_one_hot\n",
            "discrete_policy_code_1_one_hot\n",
            "discrete_purpose_1_one_hot\n",
            "discrete_purpose_2_one_hot\n",
            "discrete_purpose_3_one_hot\n",
            "discrete_purpose_4_one_hot\n",
            "discrete_purpose_5_one_hot\n",
            "discrete_purpose_6_one_hot\n",
            "discrete_purpose_7_one_hot\n",
            "discrete_purpose_8_one_hot\n",
            "discrete_purpose_9_one_hot\n",
            "discrete_purpose_10_one_hot\n",
            "discrete_purpose_11_one_hot\n",
            "discrete_purpose_12_one_hot\n",
            "discrete_pymnt_plan_1_one_hot\n",
            "discrete_sub_grade_1_one_hot\n",
            "discrete_sub_grade_2_one_hot\n",
            "discrete_sub_grade_3_one_hot\n",
            "discrete_sub_grade_4_one_hot\n",
            "discrete_sub_grade_5_one_hot\n",
            "discrete_sub_grade_6_one_hot\n",
            "discrete_sub_grade_7_one_hot\n",
            "discrete_sub_grade_8_one_hot\n",
            "discrete_sub_grade_9_one_hot\n",
            "discrete_sub_grade_10_one_hot\n",
            "discrete_sub_grade_11_one_hot\n",
            "discrete_sub_grade_12_one_hot\n",
            "discrete_sub_grade_13_one_hot\n",
            "discrete_sub_grade_14_one_hot\n",
            "discrete_sub_grade_15_one_hot\n",
            "discrete_sub_grade_16_one_hot\n",
            "discrete_sub_grade_17_one_hot\n",
            "discrete_sub_grade_18_one_hot\n",
            "discrete_sub_grade_19_one_hot\n",
            "discrete_sub_grade_20_one_hot\n",
            "discrete_sub_grade_21_one_hot\n",
            "discrete_sub_grade_22_one_hot\n",
            "discrete_sub_grade_23_one_hot\n",
            "discrete_sub_grade_24_one_hot\n",
            "discrete_sub_grade_25_one_hot\n",
            "discrete_sub_grade_26_one_hot\n",
            "discrete_sub_grade_27_one_hot\n",
            "discrete_sub_grade_28_one_hot\n",
            "discrete_sub_grade_29_one_hot\n",
            "discrete_sub_grade_30_one_hot\n",
            "discrete_sub_grade_31_one_hot\n",
            "discrete_sub_grade_32_one_hot\n",
            "discrete_sub_grade_33_one_hot\n",
            "discrete_sub_grade_34_one_hot\n",
            "discrete_sub_grade_35_one_hot\n",
            "discrete_term_1_one_hot\n",
            "discrete_term_2_one_hot\n"
          ],
          "name": "stdout"
        }
      ]
    },
    {
      "cell_type": "markdown",
      "metadata": {
        "id": "5FGKaE0V5ZNh"
      },
      "source": [
        "Setup HyperParameter search"
      ]
    },
    {
      "cell_type": "code",
      "metadata": {
        "id": "ZkYQVbqzrdoO"
      },
      "source": [
        "def train_model(df_train_data, df_test_data):\r\n",
        "  df_train_y = df_train_data[\"loan_status\"]\r\n",
        "  df_train_features = df_train_data.drop(\"loan_status\", axis=1)\r\n",
        "\r\n",
        "  df_test_y = df_test_data[\"loan_status\"]\r\n",
        "  df_test_features = df_test_data.drop(\"loan_status\", axis=1)\r\n",
        "  \r\n",
        "  params = {\"objective\": \"binary\",\r\n",
        "            \"boosting_type\": \"gbdt\",\r\n",
        "            \"learning_rate\": 0.1,\r\n",
        "            \"num_leaves\": 15,\r\n",
        "            \"max_bin\": 256,\r\n",
        "            \"feature_fraction\": 0.6,\r\n",
        "            \"verbosity\": 0,\r\n",
        "            \"drop_rate\": 0.1,\r\n",
        "            \"is_unbalance\": False,\r\n",
        "            \"max_drop\": 50,\r\n",
        "            \"min_child_samples\": 10,\r\n",
        "            \"min_child_weight\": 150,\r\n",
        "            \"min_split_gain\": 0,\r\n",
        "            \"subsample\": 0.9\r\n",
        "            }\r\n",
        "\r\n",
        "  num_boost_round = 10000\r\n",
        "  kfold_splits = 5\r\n",
        "  kfold = StratifiedKFold(n_splits=kfold_splits, shuffle=True, random_state=218)\r\n",
        "\r\n",
        "  best_trees = []\r\n",
        "  fold_scores = []\r\n",
        "\r\n",
        "  for i, (train_fold, validate) in enumerate(kfold.split(df_train_features, df_train_y)):\r\n",
        "      X_train, X_validate, label_train, label_validate = df_train_features.loc[train_fold],\\\r\n",
        "                        df_train_features.loc[validate],\\\r\n",
        "                        df_train_y.loc[train_fold],\\\r\n",
        "                        df_train_y.loc[validate]\r\n",
        "      dtrain = lgbm.Dataset(X_train, label_train)\r\n",
        "      dvalid = lgbm.Dataset(X_validate, label_validate, reference=dtrain)\r\n",
        "      bst = lgbm.train(params, dtrain, num_boost_round,\r\n",
        "                      valid_sets=dvalid,\r\n",
        "                      verbose_eval=100, \r\n",
        "                      early_stopping_rounds=1000)\r\n",
        "      best_trees.append(bst.best_iteration)\r\n",
        "      y_pred = bst.predict(df_test_features, num_iteration=bst.best_iteration)\r\n",
        "\r\n",
        "      score = accuracy_score(df_test_y, np.where(y_pred>=0.5, 1, 0))\r\n",
        "\r\n",
        "      fold_scores.append(score)\r\n",
        "      print(\"{} of folds, accuracy_score {} \".format(i, score))"
      ],
      "execution_count": null,
      "outputs": []
    },
    {
      "cell_type": "code",
      "metadata": {
        "colab": {
          "base_uri": "https://localhost:8080/"
        },
        "id": "I8bhruCScQQ6",
        "outputId": "eb274601-70ba-4235-860a-adae2a975902"
      },
      "source": [
        "train_model(df_train_data, df_test_data)"
      ],
      "execution_count": null,
      "outputs": [
        {
          "output_type": "stream",
          "text": [
            "Training until validation scores don't improve for 1000 rounds.\n",
            "[100]\tvalid_0's binary_logloss: 0.194828\n",
            "[200]\tvalid_0's binary_logloss: 0.19628\n",
            "[300]\tvalid_0's binary_logloss: 0.196992\n",
            "[400]\tvalid_0's binary_logloss: 0.197854\n",
            "[500]\tvalid_0's binary_logloss: 0.198793\n",
            "[600]\tvalid_0's binary_logloss: 0.199695\n",
            "[700]\tvalid_0's binary_logloss: 0.200452\n",
            "[800]\tvalid_0's binary_logloss: 0.201028\n",
            "[900]\tvalid_0's binary_logloss: 0.2017\n",
            "[1000]\tvalid_0's binary_logloss: 0.202231\n",
            "Early stopping, best iteration is:\n",
            "[78]\tvalid_0's binary_logloss: 0.194449\n",
            "0 of folds, accuracy_score 0.91814 \n",
            "Training until validation scores don't improve for 1000 rounds.\n",
            "[100]\tvalid_0's binary_logloss: 0.192267\n",
            "[200]\tvalid_0's binary_logloss: 0.193085\n",
            "[300]\tvalid_0's binary_logloss: 0.194519\n",
            "[400]\tvalid_0's binary_logloss: 0.194808\n",
            "[500]\tvalid_0's binary_logloss: 0.196197\n",
            "[600]\tvalid_0's binary_logloss: 0.196992\n",
            "[700]\tvalid_0's binary_logloss: 0.197758\n",
            "[800]\tvalid_0's binary_logloss: 0.198642\n",
            "[900]\tvalid_0's binary_logloss: 0.199299\n",
            "[1000]\tvalid_0's binary_logloss: 0.200211\n",
            "Early stopping, best iteration is:\n",
            "[97]\tvalid_0's binary_logloss: 0.192202\n",
            "1 of folds, accuracy_score 0.91806 \n",
            "Training until validation scores don't improve for 1000 rounds.\n",
            "[100]\tvalid_0's binary_logloss: 0.206864\n",
            "[200]\tvalid_0's binary_logloss: 0.206758\n",
            "[300]\tvalid_0's binary_logloss: 0.207201\n",
            "[400]\tvalid_0's binary_logloss: 0.207921\n",
            "[500]\tvalid_0's binary_logloss: 0.208772\n",
            "[600]\tvalid_0's binary_logloss: 0.209279\n"
          ],
          "name": "stdout"
        }
      ]
    },
    {
      "cell_type": "code",
      "metadata": {
        "id": "UJWs7LpQU9rU"
      },
      "source": [
        "df_train_data2 = df_train_data.copy()\r\n",
        "df_test_data2 = df_test_data.copy()\r\n",
        "df_train_data2['cap'] = (df_train_data['continuous_funded_amnt'] * df_train_data['continuous_int_rate'] + df_train_data['continuous_installment']) / df_train_data['continuous_annual_inc']\r\n",
        "df_test_data2['cap'] = (df_test_data['continuous_funded_amnt'] * df_test_data['continuous_int_rate'] + df_test_data['continuous_installment']) / df_test_data['continuous_annual_inc']"
      ],
      "execution_count": null,
      "outputs": []
    },
    {
      "cell_type": "code",
      "metadata": {
        "colab": {
          "base_uri": "https://localhost:8080/"
        },
        "id": "fdWd3bS1S0nt",
        "outputId": "77f8e27f-1c52-45ee-d16c-8c83f2afeb65"
      },
      "source": [
        "train_model(df_train_data2, df_test_data2)"
      ],
      "execution_count": null,
      "outputs": [
        {
          "output_type": "stream",
          "text": [
            "Training until validation scores don't improve for 1000 rounds.\n",
            "[100]\tvalid_0's binary_logloss: 0.194957\n",
            "[200]\tvalid_0's binary_logloss: 0.196355\n",
            "[300]\tvalid_0's binary_logloss: 0.197229\n",
            "[400]\tvalid_0's binary_logloss: 0.198316\n",
            "[500]\tvalid_0's binary_logloss: 0.199163\n",
            "[600]\tvalid_0's binary_logloss: 0.199722\n",
            "[700]\tvalid_0's binary_logloss: 0.200389\n",
            "[800]\tvalid_0's binary_logloss: 0.20098\n",
            "[900]\tvalid_0's binary_logloss: 0.20157\n",
            "[1000]\tvalid_0's binary_logloss: 0.202106\n",
            "Early stopping, best iteration is:\n",
            "[72]\tvalid_0's binary_logloss: 0.19462\n",
            "0 of folds, accuracy_score 0.91826\n",
            "Training until validation scores don't improve for 1000 rounds.\n",
            "[100]\tvalid_0's binary_logloss: 0.192398\n",
            "[200]\tvalid_0's binary_logloss: 0.193144\n",
            "[300]\tvalid_0's binary_logloss: 0.193827\n",
            "[400]\tvalid_0's binary_logloss: 0.194979\n",
            "[500]\tvalid_0's binary_logloss: 0.195937\n",
            "[600]\tvalid_0's binary_logloss: 0.196792\n",
            "[700]\tvalid_0's binary_logloss: 0.197421\n",
            "[800]\tvalid_0's binary_logloss: 0.198438\n",
            "[900]\tvalid_0's binary_logloss: 0.198769\n",
            "[1000]\tvalid_0's binary_logloss: 0.199668\n",
            "Early stopping, best iteration is:\n",
            "[98]\tvalid_0's binary_logloss: 0.192376\n",
            "1 of folds, accuracy_score 0.91854\n",
            "Training until validation scores don't improve for 1000 rounds.\n",
            "[100]\tvalid_0's binary_logloss: 0.206407\n",
            "[200]\tvalid_0's binary_logloss: 0.206324\n",
            "[300]\tvalid_0's binary_logloss: 0.207152\n",
            "[400]\tvalid_0's binary_logloss: 0.208035\n",
            "[500]\tvalid_0's binary_logloss: 0.208452\n",
            "[600]\tvalid_0's binary_logloss: 0.209177\n",
            "[700]\tvalid_0's binary_logloss: 0.210123\n",
            "[800]\tvalid_0's binary_logloss: 0.210983\n",
            "[900]\tvalid_0's binary_logloss: 0.211729\n",
            "[1000]\tvalid_0's binary_logloss: 0.212406\n",
            "[1100]\tvalid_0's binary_logloss: 0.212968\n",
            "Early stopping, best iteration is:\n",
            "[187]\tvalid_0's binary_logloss: 0.206081\n",
            "2 of folds, accuracy_score 0.918\n",
            "Training until validation scores don't improve for 1000 rounds.\n",
            "[100]\tvalid_0's binary_logloss: 0.191088\n",
            "[200]\tvalid_0's binary_logloss: 0.19171\n",
            "[300]\tvalid_0's binary_logloss: 0.192699\n",
            "[400]\tvalid_0's binary_logloss: 0.193237\n",
            "[500]\tvalid_0's binary_logloss: 0.193813\n",
            "[600]\tvalid_0's binary_logloss: 0.19445\n",
            "[700]\tvalid_0's binary_logloss: 0.195276\n",
            "[800]\tvalid_0's binary_logloss: 0.195882\n",
            "[900]\tvalid_0's binary_logloss: 0.196584\n",
            "[1000]\tvalid_0's binary_logloss: 0.197465\n",
            "Early stopping, best iteration is:\n",
            "[87]\tvalid_0's binary_logloss: 0.190889\n",
            "3 of folds, accuracy_score 0.91808\n",
            "Training until validation scores don't improve for 1000 rounds.\n",
            "[100]\tvalid_0's binary_logloss: 0.201159\n",
            "[200]\tvalid_0's binary_logloss: 0.201559\n",
            "[300]\tvalid_0's binary_logloss: 0.202106\n",
            "[400]\tvalid_0's binary_logloss: 0.202732\n",
            "[500]\tvalid_0's binary_logloss: 0.203429\n",
            "[600]\tvalid_0's binary_logloss: 0.203986\n",
            "[700]\tvalid_0's binary_logloss: 0.204716\n",
            "[800]\tvalid_0's binary_logloss: 0.205208\n",
            "[900]\tvalid_0's binary_logloss: 0.205805\n",
            "[1000]\tvalid_0's binary_logloss: 0.206157\n",
            "[1100]\tvalid_0's binary_logloss: 0.206878\n",
            "Early stopping, best iteration is:\n",
            "[142]\tvalid_0's binary_logloss: 0.20096\n",
            "4 of folds, accuracy_score 0.91796\n"
          ],
          "name": "stdout"
        }
      ]
    },
    {
      "cell_type": "code",
      "metadata": {
        "id": "fVJ4UkP1VIiB"
      },
      "source": [
        ""
      ],
      "execution_count": null,
      "outputs": []
    }
  ]
}